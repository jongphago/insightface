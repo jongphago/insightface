{
 "cells": [
  {
   "cell_type": "code",
   "execution_count": null,
   "metadata": {},
   "outputs": [],
   "source": [
    "import torch\n",
    "import torchvision.transforms as transforms\n",
    "\n",
    "from easydict import EasyDict as edict\n",
    "\n",
    "from recognition.arcface_torch.backbones import get_model\n",
    "from recognition.arcface_torch.configs.aihub_r50_onegpu import config as cfg\n",
    "\n",
    "from datasets.AIHubDataset import AIHubDataset\n",
    "from validate_aihub import validate_aihub\n"
   ]
  },
  {
   "cell_type": "code",
   "execution_count": null,
   "metadata": {},
   "outputs": [],
   "source": [
    "aihub_dataroot = \"/home/jupyter/data/face-image/valid_aihub_family\"\n",
    "num_workers = 4\n",
    "lfw_batch_size = 200\n",
    "image_size = 112\n",
    "aihub_mean = [0.5444, 0.4335, 0.3800]\n",
    "aihub_std = [0.2672, 0.2295, 0.2156]\n"
   ]
  },
  {
   "cell_type": "code",
   "execution_count": null,
   "metadata": {},
   "outputs": [],
   "source": [
    "aihub_transforms = transforms.Compose(\n",
    "    [\n",
    "        transforms.Resize(size=(image_size, image_size)),\n",
    "        transforms.ToTensor(),\n",
    "        transforms.Normalize(mean=aihub_mean, std=aihub_std),\n",
    "    ]\n",
    ")\n"
   ]
  },
  {
   "cell_type": "code",
   "execution_count": null,
   "metadata": {},
   "outputs": [],
   "source": [
    "aihub_dataloader = torch.utils.data.DataLoader(\n",
    "    dataset=AIHubDataset(\n",
    "        dir=aihub_dataroot,\n",
    "        pairs_path=\"data/pairs/valid/pairs_Family.txt\",\n",
    "        transform=aihub_transforms,\n",
    "    ),\n",
    "    batch_size=lfw_batch_size,\n",
    "    num_workers=num_workers,\n",
    "    shuffle=False,\n",
    ")\n"
   ]
  },
  {
   "cell_type": "code",
   "execution_count": null,
   "metadata": {},
   "outputs": [],
   "source": [
    "backbone = get_model(\n",
    "    cfg.network, dropout=0.0, fp16=cfg.fp16, num_features=cfg.embedding_size\n",
    ")"
   ]
  },
  {
   "cell_type": "code",
   "execution_count": null,
   "metadata": {},
   "outputs": [],
   "source": [
    "model_weights = torch.load(\n",
    "    f\"/home/jupyter/face/utils/model/arcface/{cfg.network}/backbone.pth\"\n",
    ")\n",
    "backbone.load_state_dict(model_weights)\n",
    "backbone.cuda().eval()"
   ]
  }
 ],
 "metadata": {
  "language_info": {
   "name": "python"
  },
  "orig_nbformat": 4
 },
 "nbformat": 4,
 "nbformat_minor": 2
}
