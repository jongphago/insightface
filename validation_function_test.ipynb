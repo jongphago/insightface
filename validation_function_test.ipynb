{
 "cells": [
  {
   "cell_type": "code",
   "execution_count": null,
   "metadata": {},
   "outputs": [],
   "source": [
    "import os\n",
    "import numpy as np\n",
    "import torch\n",
    "import torchvision.transforms as transforms\n",
    "\n",
    "from easydict import EasyDict as edict\n",
    "\n",
    "from recognition.arcface_torch.backbones import get_model\n",
    "from recognition.arcface_torch.configs.aihub_r50_onegpu import config as cfg\n",
    "from utils.utils_config import return_aihub_dataloader\n",
    "\n",
    "from datasets.AIHubDataset import AIHubDataset\n",
    "from validate_aihub import validate_aihub"
   ]
  },
  {
   "cell_type": "code",
   "execution_count": null,
   "metadata": {},
   "outputs": [],
   "source": [
    "import wandb\n",
    "\n",
    "run = wandb.init(\n",
    "    entity=\"jongphago\",\n",
    "    project=\"arcface-evaluation-with-aihub\",\n",
    ")"
   ]
  },
  {
   "cell_type": "code",
   "execution_count": null,
   "metadata": {},
   "outputs": [],
   "source": [
    "aihub_transforms = transforms.Compose(\n",
    "    [\n",
    "        transforms.Resize(size=(cfg.data.image_size, cfg.data.image_size)),\n",
    "        transforms.ToTensor(),\n",
    "        transforms.Normalize(mean=cfg.data.aihub_mean, std=cfg.data.aihub_std),\n",
    "    ]\n",
    ")"
   ]
  },
  {
   "cell_type": "code",
   "execution_count": null,
   "metadata": {},
   "outputs": [],
   "source": [
    "test = cfg.data.test\n",
    "test.task = \"family\"\n",
    "aihub_dataloader = return_aihub_dataloader(cfg.data.test, aihub_transforms)"
   ]
  },
  {
   "cell_type": "code",
   "execution_count": null,
   "metadata": {},
   "outputs": [],
   "source": [
    "# Pre-trained\n",
    "target_weight_path = f\"/home/jupyter/face/utils/model/arcface/{cfg.network}/backbone.pth\"\n",
    "\n",
    "# AIHub fine-tune\n",
    "target_weight_path = \"/home/jongphago/insightface/work_dirs/aihub_r50_onegpu/checkpoint_gpu_0.pt\""
   ]
  },
  {
   "cell_type": "code",
   "execution_count": null,
   "metadata": {},
   "outputs": [],
   "source": [
    "backbone = get_model(\n",
    "    cfg.network, dropout=cfg.dropout, fp16=cfg.fp16, num_features=cfg.embedding_size\n",
    ")"
   ]
  },
  {
   "cell_type": "code",
   "execution_count": null,
   "metadata": {},
   "outputs": [],
   "source": [
    "state_dict = torch.load(target_weight_path)\n",
    "if \"state_dict_backbone\" in state_dict:\n",
    "    model_weights = state_dict['state_dict_backbone']\n",
    "else:\n",
    "    model_weights = state_dict"
   ]
  },
  {
   "cell_type": "code",
   "execution_count": null,
   "metadata": {},
   "outputs": [],
   "source": [
    "backbone.load_state_dict(model_weights)\n",
    "backbone.cuda().eval()"
   ]
  },
  {
   "cell_type": "code",
   "execution_count": null,
   "metadata": {},
   "outputs": [],
   "source": [
    "out = validate_aihub(backbone, aihub_dataloader, cfg.network, 0)"
   ]
  },
  {
   "cell_type": "code",
   "execution_count": null,
   "metadata": {},
   "outputs": [],
   "source": [
    "best_distances, (accuracy, precision, recall, roc_auc, tar, far) = out"
   ]
  },
  {
   "cell_type": "code",
   "execution_count": null,
   "metadata": {},
   "outputs": [],
   "source": [
    "wandb.log(\n",
    "    {\n",
    "        \"accuracy\": np.mean(accuracy),\n",
    "        \"precision\": np.mean(precision),\n",
    "        \"recall\": np.mean(recall),\n",
    "        \"best_distances\": np.mean(best_distances),\n",
    "    },\n",
    ")"
   ]
  },
  {
   "cell_type": "code",
   "execution_count": null,
   "metadata": {},
   "outputs": [],
   "source": [
    "ckp_name = os.path.basename(target_weight_path)\n",
    "dir_name = os.path.dirname(target_weight_path)\n",
    "config_name = os.path.basename(dir_name) "
   ]
  },
  {
   "cell_type": "code",
   "execution_count": null,
   "metadata": {},
   "outputs": [],
   "source": [
    "api = wandb.Api()"
   ]
  },
  {
   "cell_type": "code",
   "execution_count": null,
   "metadata": {},
   "outputs": [],
   "source": [
    "config = {\n",
    "    'task': test.task,\n",
    "    'split': test.split,\n",
    "    'checkpoint': ckp_name,\n",
    "    'config': config_name,\n",
    "}"
   ]
  },
  {
   "cell_type": "code",
   "execution_count": null,
   "metadata": {},
   "outputs": [],
   "source": [
    "# Access attributes directly from the run object or from the W&B App \n",
    "username = wandb.run.entity\n",
    "project = wandb.run.project\n",
    "run_id = wandb.run.id\n",
    "print(f\"{username}/{project}/{run_id}\")\n",
    "\n",
    "run = api.run(f\"{username}/{project}/{run_id}\")\n",
    "run.config = config\n",
    "run.update()"
   ]
  },
  {
   "attachments": {},
   "cell_type": "markdown",
   "metadata": {},
   "source": [
    "## Validate by task"
   ]
  },
  {
   "cell_type": "code",
   "execution_count": null,
   "metadata": {},
   "outputs": [],
   "source": [
    "for task in [\"family\", \"age\", \"individuals\"]:\n",
    "    test = cfg.data.test\n",
    "    test.task = task\n",
    "    aihub_dataloader = return_aihub_dataloader(cfg.data.test, aihub_transforms)\n",
    "    out = validate_aihub(backbone, aihub_dataloader, cfg.network, 0, task=f\"{task}_\")\n",
    "    best_distances, (accuracy, precision, recall, roc_auc, tar, far) = out"
   ]
  },
  {
   "cell_type": "code",
   "execution_count": null,
   "metadata": {},
   "outputs": [],
   "source": []
  }
 ],
 "metadata": {
  "kernelspec": {
   "display_name": "face",
   "language": "python",
   "name": "python3"
  },
  "language_info": {
   "codemirror_mode": {
    "name": "ipython",
    "version": 3
   },
   "file_extension": ".py",
   "mimetype": "text/x-python",
   "name": "python",
   "nbconvert_exporter": "python",
   "pygments_lexer": "ipython3",
   "version": "3.7.12"
  },
  "orig_nbformat": 4
 },
 "nbformat": 4,
 "nbformat_minor": 2
}
