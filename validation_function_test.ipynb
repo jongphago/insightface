{
 "cells": [
  {
   "cell_type": "code",
   "execution_count": null,
   "metadata": {},
   "outputs": [],
   "source": [
    "import torch\n",
    "import torchvision.transforms as transforms\n",
    "\n",
    "from easydict import EasyDict as edict\n",
    "\n",
    "from recognition.arcface_torch.backbones import get_model\n",
    "from recognition.arcface_torch.configs.aihub_r50_onegpu import config as cfg\n",
    "\n",
    "from datasets.AIHubDataset import AIHubDataset\n",
    "from validate_aihub import validate_aihub"
   ]
  },
  {
   "cell_type": "code",
   "execution_count": null,
   "metadata": {},
   "outputs": [],
   "source": [
    "num_workers = 4\n",
    "lfw_batch_size = 200\n",
    "image_size = 112\n",
    "aihub_mean = [0.5444, 0.4335, 0.3800]\n",
    "aihub_std = [0.2672, 0.2295, 0.2156]"
   ]
  },
  {
   "cell_type": "code",
   "execution_count": null,
   "metadata": {},
   "outputs": [],
   "source": [
    "aihub_transforms = transforms.Compose(\n",
    "    [\n",
    "        transforms.Resize(size=(image_size, image_size)),\n",
    "        transforms.ToTensor(),\n",
    "        transforms.Normalize(mean=aihub_mean, std=aihub_std),\n",
    "    ]\n",
    ")"
   ]
  },
  {
   "cell_type": "code",
   "execution_count": 20,
   "metadata": {},
   "outputs": [],
   "source": [
    "TASK = \"Family\"\n",
    "SPLIT = \"test\"\n",
    "aihub_dataroot = f\"/home/jupyter/data/face-image/{SPLIT}_aihub_family\"\n",
    "\n",
    "aihub_dataloader = torch.utils.data.DataLoader(\n",
    "    dataset=AIHubDataset(\n",
    "        dir=aihub_dataroot,\n",
    "        pairs_path=f\"data/pairs/{SPLIT}/pairs_{TASK}.txt\",\n",
    "        transform=aihub_transforms,\n",
    "    ),\n",
    "    batch_size=lfw_batch_size,\n",
    "    num_workers=num_workers,\n",
    "    shuffle=False,\n",
    ")"
   ]
  },
  {
   "cell_type": "code",
   "execution_count": 21,
   "metadata": {},
   "outputs": [],
   "source": [
    "# Pre-trained\n",
    "target_weight_path = f\"/home/jupyter/face/utils/model/arcface/{cfg.network}/backbone.pth\"\n",
    "\n",
    "# AIHub fine-tune\n",
    "target_weight_path = \"/home/jongphago/insightface/work_dirs/aihub_r50_onegpu/checkpoint_gpu_0.pt\""
   ]
  },
  {
   "cell_type": "code",
   "execution_count": 22,
   "metadata": {},
   "outputs": [],
   "source": [
    "backbone = get_model(\n",
    "    cfg.network, dropout=0.0, fp16=cfg.fp16, num_features=cfg.embedding_size\n",
    ")"
   ]
  },
  {
   "cell_type": "code",
   "execution_count": 23,
   "metadata": {},
   "outputs": [],
   "source": [
    "state_dict = torch.load(target_weight_path)\n",
    "if \"state_dict_backbone\" in state_dict:\n",
    "    model_weights = state_dict['state_dict_backbone']\n",
    "else:\n",
    "    model_weights = state_dict"
   ]
  },
  {
   "cell_type": "code",
   "execution_count": null,
   "metadata": {},
   "outputs": [],
   "source": [
    "backbone.load_state_dict(model_weights)\n",
    "backbone.cuda().eval()"
   ]
  },
  {
   "cell_type": "code",
   "execution_count": null,
   "metadata": {},
   "outputs": [],
   "source": [
    "out = validate_aihub(backbone, aihub_dataloader, cfg.network, 0)"
   ]
  }
 ],
 "metadata": {
  "kernelspec": {
   "display_name": "face",
   "language": "python",
   "name": "python3"
  },
  "language_info": {
   "codemirror_mode": {
    "name": "ipython",
    "version": 3
   },
   "file_extension": ".py",
   "mimetype": "text/x-python",
   "name": "python",
   "nbconvert_exporter": "python",
   "pygments_lexer": "ipython3",
   "version": "3.7.12"
  },
  "orig_nbformat": 4
 },
 "nbformat": 4,
 "nbformat_minor": 2
}
