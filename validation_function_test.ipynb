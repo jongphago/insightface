{
 "cells": [
  {
   "cell_type": "code",
   "execution_count": 6,
   "metadata": {},
   "outputs": [],
   "source": [
    "import torch\n",
    "import torchvision.transforms as transforms\n",
    "\n",
    "from easydict import EasyDict as edict\n",
    "\n",
    "from recognition.arcface_torch.backbones import get_model\n",
    "from recognition.arcface_torch.configs.aihub_r50_onegpu import config as cfg\n",
    "\n",
    "from datasets.AIHubDataset import AIHubDataset\n",
    "from validate_aihub import validate_aihub"
   ]
  },
  {
   "cell_type": "code",
   "execution_count": 29,
   "metadata": {},
   "outputs": [],
   "source": [
    "TASK = \"Family\"\n",
    "SPLIT = \"test\"\n",
    "aihub_dataroot = f\"/home/jupyter/data/face-image/{SPLIT}_aihub_family\"\n",
    "num_workers = 4\n",
    "lfw_batch_size = 200\n",
    "image_size = 112\n",
    "aihub_mean = [0.5444, 0.4335, 0.3800]\n",
    "aihub_std = [0.2672, 0.2295, 0.2156]"
   ]
  },
  {
   "cell_type": "code",
   "execution_count": 8,
   "metadata": {},
   "outputs": [],
   "source": [
    "aihub_transforms = transforms.Compose(\n",
    "    [\n",
    "        transforms.Resize(size=(image_size, image_size)),\n",
    "        transforms.ToTensor(),\n",
    "        transforms.Normalize(mean=aihub_mean, std=aihub_std),\n",
    "    ]\n",
    ")\n"
   ]
  },
  {
   "cell_type": "code",
   "execution_count": 30,
   "metadata": {},
   "outputs": [],
   "source": [
    "aihub_dataloader = torch.utils.data.DataLoader(\n",
    "    dataset=AIHubDataset(\n",
    "        dir=aihub_dataroot,\n",
    "        pairs_path=f\"data/pairs/{SPLIT}/pairs_{TASK}.txt\",\n",
    "        transform=aihub_transforms,\n",
    "    ),\n",
    "    batch_size=lfw_batch_size,\n",
    "    num_workers=num_workers,\n",
    "    shuffle=False,\n",
    ")\n"
   ]
  },
  {
   "cell_type": "code",
   "execution_count": 10,
   "metadata": {},
   "outputs": [],
   "source": [
    "backbone = get_model(\n",
    "    cfg.network, dropout=0.0, fp16=cfg.fp16, num_features=cfg.embedding_size\n",
    ")"
   ]
  },
  {
   "cell_type": "code",
   "execution_count": 32,
   "metadata": {},
   "outputs": [
    {
     "data": {
      "text/plain": [
       "<All keys matched successfully>"
      ]
     },
     "execution_count": 32,
     "metadata": {},
     "output_type": "execute_result"
    }
   ],
   "source": [
    "model_weights = torch.load(\n",
    "    f\"/home/jupyter/face/utils/model/arcface/{cfg.network}/backbone.pth\"\n",
    ")\n",
    "backbone.load_state_dict(model_weights)"
   ]
  },
  {
   "attachments": {},
   "cell_type": "markdown",
   "metadata": {},
   "source": [
    "### fine-tune weight"
   ]
  },
  {
   "cell_type": "code",
   "execution_count": 33,
   "metadata": {},
   "outputs": [
    {
     "data": {
      "text/plain": [
       "<All keys matched successfully>"
      ]
     },
     "execution_count": 33,
     "metadata": {},
     "output_type": "execute_result"
    }
   ],
   "source": [
    "target_weight_path = \"/home/jongphago/insightface/work_dirs/aihub_r50_onegpu/checkpoint_gpu_0.pt\"\n",
    "state_dict = torch.load(target_weight_path)\n",
    "backbone.load_state_dict(state_dict['state_dict_backbone'])"
   ]
  },
  {
   "cell_type": "code",
   "execution_count": 34,
   "metadata": {},
   "outputs": [
    {
     "name": "stdout",
     "output_type": "stream",
     "text": [
      "Validating on AIHUB! ...\n"
     ]
    },
    {
     "name": "stderr",
     "output_type": "stream",
     "text": [
      "100%|██████████| 30/30 [00:31<00:00,  1.04s/it]\n"
     ]
    },
    {
     "name": "stdout",
     "output_type": "stream",
     "text": [
      "Accuracy on AIHUB: 0.9900+-0.0025\tPrecision 0.9930+-0.0038\tRecall 0.9870+-0.0043\tROC Area Under Curve: 0.6229\tBest distance threshold: 21.41+-0.18\tTAR: 0.7103+-0.0396 @ FAR: 0.0013\n",
      "Accuracy on AIHUB, Precision, Recall, ROC Area Under Curve, Best distance threshold TAR, FAR\n",
      "0.9900+-0.0025, 0.9930+-0.0038, 0.9870+-0.0043,0.6229, 21.41+-0.18,0.7103+-0.0396, 0.0013\n"
     ]
    }
   ],
   "source": [
    "backbone.cuda().eval()\n",
    "_ = validate_aihub(backbone, aihub_dataloader, cfg.network, 0)"
   ]
  }
 ],
 "metadata": {
  "kernelspec": {
   "display_name": "face",
   "language": "python",
   "name": "python3"
  },
  "language_info": {
   "codemirror_mode": {
    "name": "ipython",
    "version": 3
   },
   "file_extension": ".py",
   "mimetype": "text/x-python",
   "name": "python",
   "nbconvert_exporter": "python",
   "pygments_lexer": "ipython3",
   "version": "3.7.12"
  },
  "orig_nbformat": 4
 },
 "nbformat": 4,
 "nbformat_minor": 2
}
