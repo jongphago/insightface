{
 "cells": [
  {
   "cell_type": "code",
   "execution_count": 1,
   "metadata": {},
   "outputs": [],
   "source": [
    "import os"
   ]
  },
  {
   "cell_type": "code",
   "execution_count": 10,
   "metadata": {},
   "outputs": [
    {
     "data": {
      "text/html": [
       "<div>\n",
       "<style scoped>\n",
       "    .dataframe tbody tr th:only-of-type {\n",
       "        vertical-align: middle;\n",
       "    }\n",
       "\n",
       "    .dataframe tbody tr th {\n",
       "        vertical-align: top;\n",
       "    }\n",
       "\n",
       "    .dataframe thead th {\n",
       "        text-align: right;\n",
       "    }\n",
       "</style>\n",
       "<table border=\"1\" class=\"dataframe\">\n",
       "  <thead>\n",
       "    <tr style=\"text-align: right;\">\n",
       "      <th></th>\n",
       "      <th>key</th>\n",
       "      <th>label</th>\n",
       "      <th>image</th>\n",
       "      <th>category</th>\n",
       "      <th>option</th>\n",
       "      <th>data_category</th>\n",
       "      <th>folder_name</th>\n",
       "      <th>family_id</th>\n",
       "      <th>personal_id</th>\n",
       "      <th>path</th>\n",
       "      <th>target</th>\n",
       "    </tr>\n",
       "    <tr>\n",
       "      <th>uuid</th>\n",
       "      <th></th>\n",
       "      <th></th>\n",
       "      <th></th>\n",
       "      <th></th>\n",
       "      <th></th>\n",
       "      <th></th>\n",
       "      <th></th>\n",
       "      <th></th>\n",
       "      <th></th>\n",
       "      <th></th>\n",
       "      <th></th>\n",
       "    </tr>\n",
       "  </thead>\n",
       "  <tbody>\n",
       "    <tr>\n",
       "      <th>391fc9e5-eadd-4896-ab0c-61dffd9ab09c</th>\n",
       "      <td>F0001_AGE_D_18_a1</td>\n",
       "      <td>/home/jupyter/data/aihub_family/01.데이터/1.Train...</td>\n",
       "      <td>/home/jupyter/data/aihub_family/01.데이터/1.Train...</td>\n",
       "      <td>Age</td>\n",
       "      <td>101.0</td>\n",
       "      <td>aihub_family</td>\n",
       "      <td>0000</td>\n",
       "      <td>F0001</td>\n",
       "      <td>D</td>\n",
       "      <td>/home/jongphago/family-photo-tree/data/face-im...</td>\n",
       "      <td>F0001-D</td>\n",
       "    </tr>\n",
       "  </tbody>\n",
       "</table>\n",
       "</div>"
      ],
      "text/plain": [
       "                                                    key  ...   target\n",
       "uuid                                                     ...         \n",
       "391fc9e5-eadd-4896-ab0c-61dffd9ab09c  F0001_AGE_D_18_a1  ...  F0001-D\n",
       "\n",
       "[1 rows x 11 columns]"
      ]
     },
     "execution_count": 10,
     "metadata": {},
     "output_type": "execute_result"
    }
   ],
   "source": [
    "from fpt.data import join_face_df\n",
    "from fpt.path import DTFR\n",
    "DATA_CATEGORY = \"aihub_family\"\n",
    "face_df = join_face_df(DTFR, DATA_CATEGORY)\n",
    "face_df.head(1)"
   ]
  },
  {
   "cell_type": "code",
   "execution_count": 12,
   "metadata": {},
   "outputs": [],
   "source": [
    "root = \"/home/jupyter/data/face-image/train_aihub_family/\"\n",
    "count = 0\n",
    "dir_paths = []\n",
    "for dir_path, dir_names, file_names in os.walk(root):\n",
    "    if not file_names:\n",
    "        continue\n",
    "    for file in file_names:\n",
    "        dir_paths.append(dir_path)\n",
    "        if not file.endswith(\"jpg\"):\n",
    "            print(file)\n",
    "            continue\n",
    "        else:\n",
    "            count += 1"
   ]
  },
  {
   "cell_type": "code",
   "execution_count": 15,
   "metadata": {},
   "outputs": [
    {
     "data": {
      "text/plain": [
       "(2154, 93006)"
      ]
     },
     "execution_count": 15,
     "metadata": {},
     "output_type": "execute_result"
    }
   ],
   "source": [
    "len(set(dir_paths)), count"
   ]
  }
 ],
 "metadata": {
  "kernelspec": {
   "display_name": "face",
   "language": "python",
   "name": "python3"
  },
  "language_info": {
   "codemirror_mode": {
    "name": "ipython",
    "version": 3
   },
   "file_extension": ".py",
   "mimetype": "text/x-python",
   "name": "python",
   "nbconvert_exporter": "python",
   "pygments_lexer": "ipython3",
   "version": "3.7.12"
  },
  "orig_nbformat": 4
 },
 "nbformat": 4,
 "nbformat_minor": 2
}
